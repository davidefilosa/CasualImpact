{
 "cells": [
  {
   "cell_type": "markdown",
   "id": "592a5344",
   "metadata": {},
   "source": [
    "# Project objectives\n",
    "\n",
    "\n",
    "In this project we will try to understand what is the effect of Paypal's announcement to accept Bitcoins on their value.\n",
    "\n",
    "Since a randomized experiment is not available, we will try to answer this question using a Bayesian structural time-series model. We will therefore use a set of control time series that have not been impacted by the same treatment (for example the price of other stocks that have had no impact from the Paypal announcement).\n",
    "\n",
    "This model is then used to try and predict how the response metric would have evolved after the intervention if the intervention had never occurred. \n",
    "\n",
    "We will try to predict what the price of Bitcoins would have been if Paypal had never made the announcement and then we will compare this value with what actually happened\n"
   ]
  },
  {
   "cell_type": "code",
   "execution_count": 1,
   "id": "76ac0b4b",
   "metadata": {},
   "outputs": [],
   "source": [
    "import yfinance as yf\n",
    "from causalimpact import CausalImpact\n",
    "import pandas as pd\n",
    "import seaborn as sns\n",
    "import matplotlib.pyplot as plt"
   ]
  },
  {
   "cell_type": "markdown",
   "id": "e1bcae76",
   "metadata": {},
   "source": [
    "After loading and installing the necessary libraries, we will define the treatment dates.\n",
    "\n",
    "We will use 2020-10-20 as the initial date of the treatment, which is the date of the announcement, and 2020-10-23 as the final date, which was a Friday.\n",
    "\n",
    "We must then define a period to be used to train our model which must end the day before the treatment begins\n"
   ]
  },
  {
   "cell_type": "code",
   "execution_count": 2,
   "id": "e98b458c",
   "metadata": {},
   "outputs": [],
   "source": [
    "# Define dates\n",
    "training_start = \"2020-09-01\" #needs to be longehr that treatment period, the longer the better\n",
    "training_end = \"2020-10-19\" # a day before treatment start\n",
    "\n",
    "treatment_start = \"2020-10-20\"\n",
    "treatment_end = \"2020-10-23\"\n",
    "\n",
    "end_stock = \"2020-10-24\" # a day more the treatment end "
   ]
  },
  {
   "cell_type": "code",
   "execution_count": 3,
   "id": "4fe05e7d",
   "metadata": {},
   "outputs": [
    {
     "name": "stdout",
     "output_type": "stream",
     "text": [
      "[*********************100%***********************]  1 of 1 completed\n"
     ]
    }
   ],
   "source": [
    "# loading financial data Bitcon\n",
    "y = [\"BTC-USD\"]\n",
    "y = yf.download(tickers = y, start= training_start, end=end_stock, intervat=\"1d\")"
   ]
  },
  {
   "cell_type": "code",
   "execution_count": 4,
   "id": "f920c97e",
   "metadata": {},
   "outputs": [],
   "source": [
    "y = y['Adj Close'].rename('y')"
   ]
  },
  {
   "cell_type": "markdown",
   "id": "3f1e73fa",
   "metadata": {},
   "source": [
    "We then used yfinance to upload Bitcoin prices for the period of interest. \n",
    "\n",
    "As a next step we have selected a group of shares, we will use their share price to create a control group to evaluate the effect of the treatment.\n",
    "\n",
    "We have not selected other digital currencies because their price may have been impacted by the Paypal announcement. \n",
    "\n",
    "This is a first assumption that we have to make to use this model or that we assume that there is a set control time series that were themselves not affected by the intervention."
   ]
  },
  {
   "cell_type": "code",
   "execution_count": 5,
   "id": "c3cd6b2c",
   "metadata": {},
   "outputs": [
    {
     "name": "stdout",
     "output_type": "stream",
     "text": [
      "[*********************100%***********************]  9 of 9 completed\n"
     ]
    }
   ],
   "source": [
    "stocks = [\"CARL-B.CO\", \"ZAL.DE\", \"SQ\", \"CRSP\", \"TRMB\", \"JD\", \"DE\", \"KTOS\", \"GOOG\"] \n",
    "X = yf.download(tickers = stocks, start= training_start, end=end_stock, intervat=\"1d\")"
   ]
  },
  {
   "cell_type": "code",
   "execution_count": 6,
   "id": "540a259c",
   "metadata": {},
   "outputs": [
    {
     "data": {
      "text/html": [
       "<div>\n",
       "<style scoped>\n",
       "    .dataframe tbody tr th:only-of-type {\n",
       "        vertical-align: middle;\n",
       "    }\n",
       "\n",
       "    .dataframe tbody tr th {\n",
       "        vertical-align: top;\n",
       "    }\n",
       "\n",
       "    .dataframe thead tr th {\n",
       "        text-align: left;\n",
       "    }\n",
       "\n",
       "    .dataframe thead tr:last-of-type th {\n",
       "        text-align: right;\n",
       "    }\n",
       "</style>\n",
       "<table border=\"1\" class=\"dataframe\">\n",
       "  <thead>\n",
       "    <tr>\n",
       "      <th></th>\n",
       "      <th colspan=\"9\" halign=\"left\">Adj Close</th>\n",
       "      <th>Close</th>\n",
       "      <th>...</th>\n",
       "      <th>Open</th>\n",
       "      <th colspan=\"9\" halign=\"left\">Volume</th>\n",
       "    </tr>\n",
       "    <tr>\n",
       "      <th></th>\n",
       "      <th>CARL-B.CO</th>\n",
       "      <th>CRSP</th>\n",
       "      <th>DE</th>\n",
       "      <th>GOOG</th>\n",
       "      <th>JD</th>\n",
       "      <th>KTOS</th>\n",
       "      <th>SQ</th>\n",
       "      <th>TRMB</th>\n",
       "      <th>ZAL.DE</th>\n",
       "      <th>CARL-B.CO</th>\n",
       "      <th>...</th>\n",
       "      <th>ZAL.DE</th>\n",
       "      <th>CARL-B.CO</th>\n",
       "      <th>CRSP</th>\n",
       "      <th>DE</th>\n",
       "      <th>GOOG</th>\n",
       "      <th>JD</th>\n",
       "      <th>KTOS</th>\n",
       "      <th>SQ</th>\n",
       "      <th>TRMB</th>\n",
       "      <th>ZAL.DE</th>\n",
       "    </tr>\n",
       "    <tr>\n",
       "      <th>Date</th>\n",
       "      <th></th>\n",
       "      <th></th>\n",
       "      <th></th>\n",
       "      <th></th>\n",
       "      <th></th>\n",
       "      <th></th>\n",
       "      <th></th>\n",
       "      <th></th>\n",
       "      <th></th>\n",
       "      <th></th>\n",
       "      <th></th>\n",
       "      <th></th>\n",
       "      <th></th>\n",
       "      <th></th>\n",
       "      <th></th>\n",
       "      <th></th>\n",
       "      <th></th>\n",
       "      <th></th>\n",
       "      <th></th>\n",
       "      <th></th>\n",
       "      <th></th>\n",
       "    </tr>\n",
       "  </thead>\n",
       "  <tbody>\n",
       "    <tr>\n",
       "      <th>2020-09-01</th>\n",
       "      <td>816.406311</td>\n",
       "      <td>93.419998</td>\n",
       "      <td>211.929916</td>\n",
       "      <td>83.035500</td>\n",
       "      <td>80.459969</td>\n",
       "      <td>19.700001</td>\n",
       "      <td>166.660004</td>\n",
       "      <td>53.410000</td>\n",
       "      <td>77.000000</td>\n",
       "      <td>860.000000</td>\n",
       "      <td>...</td>\n",
       "      <td>74.959999</td>\n",
       "      <td>269532</td>\n",
       "      <td>779500.0</td>\n",
       "      <td>1873400.0</td>\n",
       "      <td>36506000.0</td>\n",
       "      <td>11431400.0</td>\n",
       "      <td>587600.0</td>\n",
       "      <td>12306400.0</td>\n",
       "      <td>542300.0</td>\n",
       "      <td>790198</td>\n",
       "    </tr>\n",
       "    <tr>\n",
       "      <th>2020-09-02</th>\n",
       "      <td>824.950073</td>\n",
       "      <td>93.930000</td>\n",
       "      <td>211.365265</td>\n",
       "      <td>86.414001</td>\n",
       "      <td>81.162254</td>\n",
       "      <td>19.910000</td>\n",
       "      <td>162.880005</td>\n",
       "      <td>54.310001</td>\n",
       "      <td>77.000000</td>\n",
       "      <td>869.000000</td>\n",
       "      <td>...</td>\n",
       "      <td>77.500000</td>\n",
       "      <td>202539</td>\n",
       "      <td>532000.0</td>\n",
       "      <td>1983000.0</td>\n",
       "      <td>50224000.0</td>\n",
       "      <td>13860900.0</td>\n",
       "      <td>612800.0</td>\n",
       "      <td>11214800.0</td>\n",
       "      <td>728800.0</td>\n",
       "      <td>496554</td>\n",
       "    </tr>\n",
       "    <tr>\n",
       "      <th>2020-09-03</th>\n",
       "      <td>840.708557</td>\n",
       "      <td>85.690002</td>\n",
       "      <td>205.231949</td>\n",
       "      <td>82.092003</td>\n",
       "      <td>77.094872</td>\n",
       "      <td>19.520000</td>\n",
       "      <td>152.860001</td>\n",
       "      <td>50.900002</td>\n",
       "      <td>75.080002</td>\n",
       "      <td>885.599976</td>\n",
       "      <td>...</td>\n",
       "      <td>77.260002</td>\n",
       "      <td>248867</td>\n",
       "      <td>1278900.0</td>\n",
       "      <td>1975200.0</td>\n",
       "      <td>62156000.0</td>\n",
       "      <td>19254000.0</td>\n",
       "      <td>847100.0</td>\n",
       "      <td>16421200.0</td>\n",
       "      <td>1220300.0</td>\n",
       "      <td>736259</td>\n",
       "    </tr>\n",
       "    <tr>\n",
       "      <th>2020-09-04</th>\n",
       "      <td>826.848633</td>\n",
       "      <td>82.019997</td>\n",
       "      <td>205.747910</td>\n",
       "      <td>79.552002</td>\n",
       "      <td>78.031250</td>\n",
       "      <td>19.260000</td>\n",
       "      <td>146.389999</td>\n",
       "      <td>49.959999</td>\n",
       "      <td>71.739998</td>\n",
       "      <td>871.000000</td>\n",
       "      <td>...</td>\n",
       "      <td>74.800003</td>\n",
       "      <td>221091</td>\n",
       "      <td>1570300.0</td>\n",
       "      <td>1662300.0</td>\n",
       "      <td>52172000.0</td>\n",
       "      <td>21500900.0</td>\n",
       "      <td>1060000.0</td>\n",
       "      <td>17995200.0</td>\n",
       "      <td>914700.0</td>\n",
       "      <td>662250</td>\n",
       "    </tr>\n",
       "    <tr>\n",
       "      <th>2020-09-07</th>\n",
       "      <td>835.392456</td>\n",
       "      <td>NaN</td>\n",
       "      <td>NaN</td>\n",
       "      <td>NaN</td>\n",
       "      <td>NaN</td>\n",
       "      <td>NaN</td>\n",
       "      <td>NaN</td>\n",
       "      <td>NaN</td>\n",
       "      <td>74.000000</td>\n",
       "      <td>880.000000</td>\n",
       "      <td>...</td>\n",
       "      <td>72.239998</td>\n",
       "      <td>90498</td>\n",
       "      <td>NaN</td>\n",
       "      <td>NaN</td>\n",
       "      <td>NaN</td>\n",
       "      <td>NaN</td>\n",
       "      <td>NaN</td>\n",
       "      <td>NaN</td>\n",
       "      <td>NaN</td>\n",
       "      <td>362062</td>\n",
       "    </tr>\n",
       "  </tbody>\n",
       "</table>\n",
       "<p>5 rows × 54 columns</p>\n",
       "</div>"
      ],
      "text/plain": [
       "             Adj Close                                               \\\n",
       "             CARL-B.CO       CRSP          DE       GOOG         JD   \n",
       "Date                                                                  \n",
       "2020-09-01  816.406311  93.419998  211.929916  83.035500  80.459969   \n",
       "2020-09-02  824.950073  93.930000  211.365265  86.414001  81.162254   \n",
       "2020-09-03  840.708557  85.690002  205.231949  82.092003  77.094872   \n",
       "2020-09-04  826.848633  82.019997  205.747910  79.552002  78.031250   \n",
       "2020-09-07  835.392456        NaN         NaN        NaN        NaN   \n",
       "\n",
       "                                                              Close  ...  \\\n",
       "                 KTOS          SQ       TRMB     ZAL.DE   CARL-B.CO  ...   \n",
       "Date                                                                 ...   \n",
       "2020-09-01  19.700001  166.660004  53.410000  77.000000  860.000000  ...   \n",
       "2020-09-02  19.910000  162.880005  54.310001  77.000000  869.000000  ...   \n",
       "2020-09-03  19.520000  152.860001  50.900002  75.080002  885.599976  ...   \n",
       "2020-09-04  19.260000  146.389999  49.959999  71.739998  871.000000  ...   \n",
       "2020-09-07        NaN         NaN        NaN  74.000000  880.000000  ...   \n",
       "\n",
       "                 Open    Volume                                                \\\n",
       "               ZAL.DE CARL-B.CO       CRSP         DE        GOOG          JD   \n",
       "Date                                                                            \n",
       "2020-09-01  74.959999    269532   779500.0  1873400.0  36506000.0  11431400.0   \n",
       "2020-09-02  77.500000    202539   532000.0  1983000.0  50224000.0  13860900.0   \n",
       "2020-09-03  77.260002    248867  1278900.0  1975200.0  62156000.0  19254000.0   \n",
       "2020-09-04  74.800003    221091  1570300.0  1662300.0  52172000.0  21500900.0   \n",
       "2020-09-07  72.239998     90498        NaN        NaN         NaN         NaN   \n",
       "\n",
       "                                                      \n",
       "                 KTOS          SQ       TRMB  ZAL.DE  \n",
       "Date                                                  \n",
       "2020-09-01   587600.0  12306400.0   542300.0  790198  \n",
       "2020-09-02   612800.0  11214800.0   728800.0  496554  \n",
       "2020-09-03   847100.0  16421200.0  1220300.0  736259  \n",
       "2020-09-04  1060000.0  17995200.0   914700.0  662250  \n",
       "2020-09-07        NaN         NaN        NaN  362062  \n",
       "\n",
       "[5 rows x 54 columns]"
      ]
     },
     "execution_count": 6,
     "metadata": {},
     "output_type": "execute_result"
    }
   ],
   "source": [
    "X.head()"
   ]
  },
  {
   "cell_type": "code",
   "execution_count": 7,
   "id": "7f2b1c5b",
   "metadata": {},
   "outputs": [],
   "source": [
    "X = X.iloc[:, :len(stocks)]"
   ]
  },
  {
   "cell_type": "code",
   "execution_count": 8,
   "id": "50f0a60b",
   "metadata": {},
   "outputs": [],
   "source": [
    "X.columns = X.columns.droplevel()"
   ]
  },
  {
   "cell_type": "code",
   "execution_count": 9,
   "id": "e183ca9a",
   "metadata": {},
   "outputs": [
    {
     "data": {
      "text/html": [
       "<div>\n",
       "<style scoped>\n",
       "    .dataframe tbody tr th:only-of-type {\n",
       "        vertical-align: middle;\n",
       "    }\n",
       "\n",
       "    .dataframe tbody tr th {\n",
       "        vertical-align: top;\n",
       "    }\n",
       "\n",
       "    .dataframe thead th {\n",
       "        text-align: right;\n",
       "    }\n",
       "</style>\n",
       "<table border=\"1\" class=\"dataframe\">\n",
       "  <thead>\n",
       "    <tr style=\"text-align: right;\">\n",
       "      <th></th>\n",
       "      <th>CARL-B.CO</th>\n",
       "      <th>CRSP</th>\n",
       "      <th>DE</th>\n",
       "      <th>GOOG</th>\n",
       "      <th>JD</th>\n",
       "      <th>KTOS</th>\n",
       "      <th>SQ</th>\n",
       "      <th>TRMB</th>\n",
       "      <th>ZAL.DE</th>\n",
       "    </tr>\n",
       "    <tr>\n",
       "      <th>Date</th>\n",
       "      <th></th>\n",
       "      <th></th>\n",
       "      <th></th>\n",
       "      <th></th>\n",
       "      <th></th>\n",
       "      <th></th>\n",
       "      <th></th>\n",
       "      <th></th>\n",
       "      <th></th>\n",
       "    </tr>\n",
       "  </thead>\n",
       "  <tbody>\n",
       "    <tr>\n",
       "      <th>2020-09-01</th>\n",
       "      <td>816.406311</td>\n",
       "      <td>93.419998</td>\n",
       "      <td>211.929916</td>\n",
       "      <td>83.035500</td>\n",
       "      <td>80.459969</td>\n",
       "      <td>19.700001</td>\n",
       "      <td>166.660004</td>\n",
       "      <td>53.410000</td>\n",
       "      <td>77.000000</td>\n",
       "    </tr>\n",
       "    <tr>\n",
       "      <th>2020-09-02</th>\n",
       "      <td>824.950073</td>\n",
       "      <td>93.930000</td>\n",
       "      <td>211.365265</td>\n",
       "      <td>86.414001</td>\n",
       "      <td>81.162254</td>\n",
       "      <td>19.910000</td>\n",
       "      <td>162.880005</td>\n",
       "      <td>54.310001</td>\n",
       "      <td>77.000000</td>\n",
       "    </tr>\n",
       "    <tr>\n",
       "      <th>2020-09-03</th>\n",
       "      <td>840.708557</td>\n",
       "      <td>85.690002</td>\n",
       "      <td>205.231949</td>\n",
       "      <td>82.092003</td>\n",
       "      <td>77.094872</td>\n",
       "      <td>19.520000</td>\n",
       "      <td>152.860001</td>\n",
       "      <td>50.900002</td>\n",
       "      <td>75.080002</td>\n",
       "    </tr>\n",
       "    <tr>\n",
       "      <th>2020-09-04</th>\n",
       "      <td>826.848633</td>\n",
       "      <td>82.019997</td>\n",
       "      <td>205.747910</td>\n",
       "      <td>79.552002</td>\n",
       "      <td>78.031250</td>\n",
       "      <td>19.260000</td>\n",
       "      <td>146.389999</td>\n",
       "      <td>49.959999</td>\n",
       "      <td>71.739998</td>\n",
       "    </tr>\n",
       "    <tr>\n",
       "      <th>2020-09-07</th>\n",
       "      <td>835.392456</td>\n",
       "      <td>NaN</td>\n",
       "      <td>NaN</td>\n",
       "      <td>NaN</td>\n",
       "      <td>NaN</td>\n",
       "      <td>NaN</td>\n",
       "      <td>NaN</td>\n",
       "      <td>NaN</td>\n",
       "      <td>74.000000</td>\n",
       "    </tr>\n",
       "  </tbody>\n",
       "</table>\n",
       "</div>"
      ],
      "text/plain": [
       "             CARL-B.CO       CRSP          DE       GOOG         JD  \\\n",
       "Date                                                                  \n",
       "2020-09-01  816.406311  93.419998  211.929916  83.035500  80.459969   \n",
       "2020-09-02  824.950073  93.930000  211.365265  86.414001  81.162254   \n",
       "2020-09-03  840.708557  85.690002  205.231949  82.092003  77.094872   \n",
       "2020-09-04  826.848633  82.019997  205.747910  79.552002  78.031250   \n",
       "2020-09-07  835.392456        NaN         NaN        NaN        NaN   \n",
       "\n",
       "                 KTOS          SQ       TRMB     ZAL.DE  \n",
       "Date                                                     \n",
       "2020-09-01  19.700001  166.660004  53.410000  77.000000  \n",
       "2020-09-02  19.910000  162.880005  54.310001  77.000000  \n",
       "2020-09-03  19.520000  152.860001  50.900002  75.080002  \n",
       "2020-09-04  19.260000  146.389999  49.959999  71.739998  \n",
       "2020-09-07        NaN         NaN        NaN  74.000000  "
      ]
     },
     "execution_count": 9,
     "metadata": {},
     "output_type": "execute_result"
    }
   ],
   "source": [
    "X.head()"
   ]
  },
  {
   "cell_type": "code",
   "execution_count": 10,
   "id": "1b1c2026",
   "metadata": {},
   "outputs": [],
   "source": [
    "df = pd.concat([y, X], axis=1).dropna()"
   ]
  },
  {
   "cell_type": "code",
   "execution_count": 11,
   "id": "7eec365c",
   "metadata": {},
   "outputs": [
    {
     "data": {
      "text/html": [
       "<div>\n",
       "<style scoped>\n",
       "    .dataframe tbody tr th:only-of-type {\n",
       "        vertical-align: middle;\n",
       "    }\n",
       "\n",
       "    .dataframe tbody tr th {\n",
       "        vertical-align: top;\n",
       "    }\n",
       "\n",
       "    .dataframe thead th {\n",
       "        text-align: right;\n",
       "    }\n",
       "</style>\n",
       "<table border=\"1\" class=\"dataframe\">\n",
       "  <thead>\n",
       "    <tr style=\"text-align: right;\">\n",
       "      <th></th>\n",
       "      <th>y</th>\n",
       "      <th>CARL-B.CO</th>\n",
       "      <th>CRSP</th>\n",
       "      <th>DE</th>\n",
       "      <th>GOOG</th>\n",
       "      <th>JD</th>\n",
       "      <th>KTOS</th>\n",
       "      <th>SQ</th>\n",
       "      <th>TRMB</th>\n",
       "      <th>ZAL.DE</th>\n",
       "    </tr>\n",
       "    <tr>\n",
       "      <th>Date</th>\n",
       "      <th></th>\n",
       "      <th></th>\n",
       "      <th></th>\n",
       "      <th></th>\n",
       "      <th></th>\n",
       "      <th></th>\n",
       "      <th></th>\n",
       "      <th></th>\n",
       "      <th></th>\n",
       "      <th></th>\n",
       "    </tr>\n",
       "  </thead>\n",
       "  <tbody>\n",
       "    <tr>\n",
       "      <th>2020-09-01</th>\n",
       "      <td>11970.478516</td>\n",
       "      <td>816.406311</td>\n",
       "      <td>93.419998</td>\n",
       "      <td>211.929916</td>\n",
       "      <td>83.035500</td>\n",
       "      <td>80.459969</td>\n",
       "      <td>19.700001</td>\n",
       "      <td>166.660004</td>\n",
       "      <td>53.410000</td>\n",
       "      <td>77.000000</td>\n",
       "    </tr>\n",
       "    <tr>\n",
       "      <th>2020-09-02</th>\n",
       "      <td>11414.034180</td>\n",
       "      <td>824.950073</td>\n",
       "      <td>93.930000</td>\n",
       "      <td>211.365265</td>\n",
       "      <td>86.414001</td>\n",
       "      <td>81.162254</td>\n",
       "      <td>19.910000</td>\n",
       "      <td>162.880005</td>\n",
       "      <td>54.310001</td>\n",
       "      <td>77.000000</td>\n",
       "    </tr>\n",
       "    <tr>\n",
       "      <th>2020-09-03</th>\n",
       "      <td>10245.296875</td>\n",
       "      <td>840.708557</td>\n",
       "      <td>85.690002</td>\n",
       "      <td>205.231949</td>\n",
       "      <td>82.092003</td>\n",
       "      <td>77.094872</td>\n",
       "      <td>19.520000</td>\n",
       "      <td>152.860001</td>\n",
       "      <td>50.900002</td>\n",
       "      <td>75.080002</td>\n",
       "    </tr>\n",
       "    <tr>\n",
       "      <th>2020-09-04</th>\n",
       "      <td>10511.813477</td>\n",
       "      <td>826.848633</td>\n",
       "      <td>82.019997</td>\n",
       "      <td>205.747910</td>\n",
       "      <td>79.552002</td>\n",
       "      <td>78.031250</td>\n",
       "      <td>19.260000</td>\n",
       "      <td>146.389999</td>\n",
       "      <td>49.959999</td>\n",
       "      <td>71.739998</td>\n",
       "    </tr>\n",
       "    <tr>\n",
       "      <th>2020-09-08</th>\n",
       "      <td>10131.516602</td>\n",
       "      <td>821.532593</td>\n",
       "      <td>81.459999</td>\n",
       "      <td>204.677063</td>\n",
       "      <td>76.619499</td>\n",
       "      <td>74.344276</td>\n",
       "      <td>19.230000</td>\n",
       "      <td>139.110001</td>\n",
       "      <td>49.139999</td>\n",
       "      <td>73.440002</td>\n",
       "    </tr>\n",
       "  </tbody>\n",
       "</table>\n",
       "</div>"
      ],
      "text/plain": [
       "                       y   CARL-B.CO       CRSP          DE       GOOG  \\\n",
       "Date                                                                     \n",
       "2020-09-01  11970.478516  816.406311  93.419998  211.929916  83.035500   \n",
       "2020-09-02  11414.034180  824.950073  93.930000  211.365265  86.414001   \n",
       "2020-09-03  10245.296875  840.708557  85.690002  205.231949  82.092003   \n",
       "2020-09-04  10511.813477  826.848633  82.019997  205.747910  79.552002   \n",
       "2020-09-08  10131.516602  821.532593  81.459999  204.677063  76.619499   \n",
       "\n",
       "                   JD       KTOS          SQ       TRMB     ZAL.DE  \n",
       "Date                                                                \n",
       "2020-09-01  80.459969  19.700001  166.660004  53.410000  77.000000  \n",
       "2020-09-02  81.162254  19.910000  162.880005  54.310001  77.000000  \n",
       "2020-09-03  77.094872  19.520000  152.860001  50.900002  75.080002  \n",
       "2020-09-04  78.031250  19.260000  146.389999  49.959999  71.739998  \n",
       "2020-09-08  74.344276  19.230000  139.110001  49.139999  73.440002  "
      ]
     },
     "execution_count": 11,
     "metadata": {},
     "output_type": "execute_result"
    }
   ],
   "source": [
    "df.head()"
   ]
  },
  {
   "cell_type": "code",
   "execution_count": 12,
   "id": "5d085831",
   "metadata": {},
   "outputs": [],
   "source": [
    "# datframe with only training data\n",
    "\n",
    "df_training = df[df.index <= training_end]"
   ]
  },
  {
   "cell_type": "markdown",
   "id": "34591298",
   "metadata": {},
   "source": [
    "After preparing our DataFrame to be able to train the model, we are going to evaluate the other assumptions. First we make sure we have a stationary series. For this we will use the Augmented Dickey–Fuller test."
   ]
  },
  {
   "cell_type": "code",
   "execution_count": 13,
   "id": "37bf031e",
   "metadata": {},
   "outputs": [],
   "source": [
    "# Stationality\n",
    "from statsmodels.tsa.stattools import adfuller"
   ]
  },
  {
   "cell_type": "code",
   "execution_count": 14,
   "id": "f43fb301",
   "metadata": {},
   "outputs": [],
   "source": [
    "pvalue = adfuller(x= df_training.y)[1]"
   ]
  },
  {
   "cell_type": "code",
   "execution_count": 15,
   "id": "ce43541b",
   "metadata": {},
   "outputs": [
    {
     "name": "stdout",
     "output_type": "stream",
     "text": [
      "Failed to reject null H. Time series is not stationary\n"
     ]
    }
   ],
   "source": [
    "alpha= 0.05\n",
    "if pvalue > alpha:\n",
    "    print('Failed to reject null H. Time series is not stationary')\n",
    "else:\n",
    "    print('Rejected null H. Time series is stationary')"
   ]
  },
  {
   "cell_type": "markdown",
   "id": "30a4c34d",
   "metadata": {},
   "source": [
    "Since our time series are not stationary, we will use the differencing method to remove trend and seasonality. We ensure that therefore the series move in the same direction because of the correlation and not because they follow the same trend."
   ]
  },
  {
   "cell_type": "code",
   "execution_count": 16,
   "id": "31445ff5",
   "metadata": {},
   "outputs": [],
   "source": [
    "#differencing to make time series stationary (dividing)\n",
    "differencing = df_training.pct_change().dropna()"
   ]
  },
  {
   "cell_type": "code",
   "execution_count": 17,
   "id": "864e6996",
   "metadata": {},
   "outputs": [
    {
     "name": "stdout",
     "output_type": "stream",
     "text": [
      "Rejected null H. Time series is stationary\n"
     ]
    }
   ],
   "source": [
    "pvalue = adfuller(x= differencing.y)[1]\n",
    "alpha= 0.05\n",
    "if pvalue > alpha:\n",
    "    print('Failed to reject null H. Time series is not stationary')\n",
    "else:\n",
    "    print('Rejected null H. Time series is stationary')"
   ]
  },
  {
   "cell_type": "markdown",
   "id": "5fcccce4",
   "metadata": {},
   "source": [
    "In the next step we will create a correlation matrix and decide to keep only those companies whose share price has shown a strong correlation with the value of Bitcoins.\n",
    "\n"
   ]
  },
  {
   "cell_type": "code",
   "execution_count": 18,
   "id": "c5b260e1",
   "metadata": {},
   "outputs": [
    {
     "data": {
      "text/plain": [
       "<AxesSubplot:>"
      ]
     },
     "execution_count": 18,
     "metadata": {},
     "output_type": "execute_result"
    },
    {
     "data": {
      "image/png": "[encoded data removed]",
      "text/plain": [
       "<Figure size 576x432 with 2 Axes>"
      ]
     },
     "metadata": {
      "needs_background": "light"
     },
     "output_type": "display_data"
    }
   ],
   "source": [
    "plt.figure(figsize=(8,6))\n",
    "sns.heatmap(differencing.corr(), center=0, annot=True, cmap=\"coolwarm\")"
   ]
  },
  {
   "cell_type": "code",
   "execution_count": 19,
   "id": "2ae78934",
   "metadata": {},
   "outputs": [],
   "source": [
    "df_final = df.drop(columns=[\"ZAL.DE\", \"CARL-B.CO\"])"
   ]
  },
  {
   "cell_type": "code",
   "execution_count": 20,
   "id": "dcba0fde",
   "metadata": {},
   "outputs": [
    {
     "data": {
      "text/html": [
       "<div>\n",
       "<style scoped>\n",
       "    .dataframe tbody tr th:only-of-type {\n",
       "        vertical-align: middle;\n",
       "    }\n",
       "\n",
       "    .dataframe tbody tr th {\n",
       "        vertical-align: top;\n",
       "    }\n",
       "\n",
       "    .dataframe thead th {\n",
       "        text-align: right;\n",
       "    }\n",
       "</style>\n",
       "<table border=\"1\" class=\"dataframe\">\n",
       "  <thead>\n",
       "    <tr style=\"text-align: right;\">\n",
       "      <th></th>\n",
       "      <th>y</th>\n",
       "      <th>CRSP</th>\n",
       "      <th>DE</th>\n",
       "      <th>GOOG</th>\n",
       "      <th>JD</th>\n",
       "      <th>KTOS</th>\n",
       "      <th>SQ</th>\n",
       "      <th>TRMB</th>\n",
       "    </tr>\n",
       "    <tr>\n",
       "      <th>Date</th>\n",
       "      <th></th>\n",
       "      <th></th>\n",
       "      <th></th>\n",
       "      <th></th>\n",
       "      <th></th>\n",
       "      <th></th>\n",
       "      <th></th>\n",
       "      <th></th>\n",
       "    </tr>\n",
       "  </thead>\n",
       "  <tbody>\n",
       "    <tr>\n",
       "      <th>2020-09-01</th>\n",
       "      <td>11970.478516</td>\n",
       "      <td>93.419998</td>\n",
       "      <td>211.929916</td>\n",
       "      <td>83.0355</td>\n",
       "      <td>80.459969</td>\n",
       "      <td>19.700001</td>\n",
       "      <td>166.660004</td>\n",
       "      <td>53.41</td>\n",
       "    </tr>\n",
       "  </tbody>\n",
       "</table>\n",
       "</div>"
      ],
      "text/plain": [
       "                       y       CRSP          DE     GOOG         JD  \\\n",
       "Date                                                                  \n",
       "2020-09-01  11970.478516  93.419998  211.929916  83.0355  80.459969   \n",
       "\n",
       "                 KTOS          SQ   TRMB  \n",
       "Date                                      \n",
       "2020-09-01  19.700001  166.660004  53.41  "
      ]
     },
     "execution_count": 20,
     "metadata": {},
     "output_type": "execute_result"
    }
   ],
   "source": [
    "df_final.head(1)"
   ]
  },
  {
   "cell_type": "markdown",
   "id": "9ff4db50",
   "metadata": {},
   "source": [
    "### We can now use our model to evaluate the impact of Paypal's announcement."
   ]
  },
  {
   "cell_type": "code",
   "execution_count": 21,
   "id": "c39705b7",
   "metadata": {},
   "outputs": [],
   "source": [
    "pre_period = [training_start, training_end]\n",
    "post_period = [treatment_start, treatment_end]"
   ]
  },
  {
   "cell_type": "code",
   "execution_count": 22,
   "id": "8dc699de",
   "metadata": {},
   "outputs": [
    {
     "name": "stdout",
     "output_type": "stream",
     "text": [
      "WARNING:tensorflow:From C:\\Users\\davide.filosa.ext\\anaconda3\\lib\\site-packages\\tensorflow\\python\\autograph\\impl\\api.py:458: StructuralTimeSeries.joint_log_prob (from tensorflow_probability.python.sts.structural_time_series) is deprecated and will be removed after 2022-03-01.\n",
      "Instructions for updating:\n",
      "Please use `StructuralTimeSeries.joint_distribution(observed_time_series).log_prob`\n",
      "WARNING:tensorflow:From C:\\Users\\davide.filosa.ext\\anaconda3\\lib\\site-packages\\tensorflow_probability\\python\\distributions\\distribution.py:342: calling MultivariateNormalDiag.__init__ (from tensorflow_probability.python.distributions.mvn_diag) with scale_identity_multiplier is deprecated and will be removed after 2020-01-01.\n",
      "Instructions for updating:\n",
      "`scale_identity_multiplier` is deprecated; please combine it into `scale_diag` directly instead.\n",
      "WARNING:tensorflow:From C:\\Users\\davide.filosa.ext\\anaconda3\\lib\\site-packages\\causalimpact\\model.py:408: calling one_step_predictive (from tensorflow_probability.python.sts.forecast) with timesteps_are_event_shape=True is deprecated and will be removed after 2021-12-31.\n",
      "Instructions for updating:\n",
      "`Predictive distributions returned by`tfp.sts.one_step_predictive` will soon compute per-timestep probabilities (treating timesteps as part of the batch shape) instead of a single probability for an entire series (the current approach, in which timesteps are treated as event shape). Please update your code to pass `timesteps_are_event_shape=False` (this will soon be the default) and to explicitly sum over the per-timestep log probabilities if this is required.\n"
     ]
    }
   ],
   "source": [
    "impact = CausalImpact(data=df_final, pre_period=pre_period, post_period=post_period)"
   ]
  },
  {
   "cell_type": "code",
   "execution_count": 23,
   "id": "53a3bac0",
   "metadata": {},
   "outputs": [
    {
     "data": {
      "image/png": "[encoded data removed]",
      "text/plain": [
       "<Figure size 720x504 with 3 Axes>"
      ]
     },
     "metadata": {
      "needs_background": "light"
     },
     "output_type": "display_data"
    }
   ],
   "source": [
    "impact.plot()"
   ]
  },
  {
   "cell_type": "markdown",
   "id": "2bbca2ed",
   "metadata": {},
   "source": [
    "# Conclusions\n",
    "\n",
    "To interpret the result we can look at the second graph, which shows us how the Delta is different from zero. This indicates that the treatment had an effect on the historical series analysed.\n",
    "\n",
    "In our case, the announcement made by Paypal that they would start accepting payments in Bitcoin had a positive impact on the price of coins.\n",
    "\n",
    "If we look at the orange area, which represents the confidence interval,we can see that it is also different from zero and that therefore the result is statistically significant."
   ]
  },
  {
   "cell_type": "code",
   "execution_count": 24,
   "id": "24b36639",
   "metadata": {},
   "outputs": [
    {
     "name": "stdout",
     "output_type": "stream",
     "text": [
      "Posterior Inference {Causal Impact}\n",
      "                          Average            Cumulative\n",
      "Actual                    12659.36           50637.45\n",
      "Prediction (s.d.)         11238.82 (231.96)  44955.29 (927.84)\n",
      "95% CI                    [10801.28, 11710.55][43205.13, 46842.2]\n",
      "\n",
      "Absolute effect (s.d.)    1420.54 (231.96)   5682.17 (927.84)\n",
      "95% CI                    [948.81, 1858.08]  [3795.25, 7432.33]\n",
      "\n",
      "Relative effect (s.d.)    12.64% (2.06%)     12.64% (2.06%)\n",
      "95% CI                    [8.44%, 16.53%]    [8.44%, 16.53%]\n",
      "\n",
      "Posterior tail-area probability p: 0.0\n",
      "Posterior prob. of a causal effect: 100.0%\n",
      "\n",
      "For more details run the command: print(impact.summary('report'))\n"
     ]
    }
   ],
   "source": [
    "print(impact.summary())"
   ]
  },
  {
   "cell_type": "code",
   "execution_count": 25,
   "id": "4e17ef9b",
   "metadata": {},
   "outputs": [
    {
     "name": "stdout",
     "output_type": "stream",
     "text": [
      "Analysis report {CausalImpact}\n",
      "\n",
      "\n",
      "During the post-intervention period, the response variable had\n",
      "an average value of approx. 12659.36. By contrast, in the absence of an\n",
      "intervention, we would have expected an average response of 11238.82.\n",
      "The 95% interval of this counterfactual prediction is [10801.28, 11710.55].\n",
      "Subtracting this prediction from the observed response yields\n",
      "an estimate of the causal effect the intervention had on the\n",
      "response variable. This effect is 1420.54 with a 95% interval of\n",
      "[948.81, 1858.08]. For a discussion of the significance of this effect,\n",
      "see below.\n",
      "\n",
      "\n",
      "Summing up the individual data points during the post-intervention\n",
      "period (which can only sometimes be meaningfully interpreted), the\n",
      "response variable had an overall value of 50637.45.\n",
      "By contrast, had the intervention not taken place, we would have expected\n",
      "a sum of 44955.29. The 95% interval of this prediction is [43205.13, 46842.2].\n",
      "\n",
      "\n",
      "The above results are given in terms of absolute numbers. In relative\n",
      "terms, the response variable showed an increase of +12.64%. The 95%\n",
      "interval of this percentage is [8.44%, 16.53%].\n",
      "\n",
      "\n",
      "This means that the positive effect observed during the intervention\n",
      "period is statistically significant and unlikely to be due to random\n",
      "fluctuations. It should be noted, however, that the question of whether\n",
      "this increase also bears substantive significance can only be answered\n",
      "by comparing the absolute effect (1420.54) to the original goal\n",
      "of the underlying intervention.\n",
      "\n",
      "\n",
      "The probability of obtaining this effect by chance is very small\n",
      "(Bayesian one-sided tail-area probability p = 0.0).\n",
      "This means the causal effect can be considered statistically\n",
      "significant.\n"
     ]
    }
   ],
   "source": [
    "print(impact.summary('report'))"
   ]
  },
  {
   "cell_type": "code",
   "execution_count": null,
   "id": "2a0befa6",
   "metadata": {},
   "outputs": [],
   "source": []
  }
 ],
 "metadata": {
  "kernelspec": {
   "display_name": "Python 3 (ipykernel)",
   "language": "python",
   "name": "python3"
  },
  "language_info": {
   "codemirror_mode": {
    "name": "ipython",
    "version": 3
   },
   "file_extension": ".py",
   "mimetype": "text/x-python",
   "name": "python",
   "nbconvert_exporter": "python",
   "pygments_lexer": "ipython3",
   "version": "3.9.12"
  }
 },
 "nbformat": 4,
 "nbformat_minor": 5
}
